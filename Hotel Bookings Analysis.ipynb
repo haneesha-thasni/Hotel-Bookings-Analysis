{
 "cells": [
  {
   "cell_type": "markdown",
   "id": "2b9653ca-cd99-4d1e-8c3a-2e696e3d40d2",
   "metadata": {},
   "source": [
    "# <div style=\"text-align: center; background-color:lightgreen; font-family:Georgia, serif; color: black; padding: 20px;line-height: 1;border-radius:5px; border: 2px solid black;\">Hotel Bookings Analysis</div>"
   ]
  },
  {
   "cell_type": "markdown",
   "id": "7f58905f-0eb7-42bc-a866-4f2fa9dd48f2",
   "metadata": {},
   "source": [
    "#### This project presents a comprehensive analysis of hotel booking data to uncover key booking patterns, optimize revenue strategies, and reduce cancellation rates. By leveraging data-driven insights, the project aims to enhance operational efficiency, improve the guest experience, and maximize overall profitability. The analysis focuses on identifying factors influencing booking behaviour, evaluating the performance of different distribution channels, and providing actionable recommendations to support data-driven decision-making."
   ]
  },
  {
   "cell_type": "markdown",
   "id": "b622a3df-7cb9-43ec-9c83-5d1c825627e6",
   "metadata": {},
   "source": [
    "## Project Objectives\n",
    "\n",
    "The primary objectives of this project include:\n",
    "\n",
    "*\tIdentifying factors contributing to booking cancellations, enabling the hotel to proactively reduce cancellation rates.\n",
    "\n",
    "*\tAnalyzing revenue patterns across customer segments, providing insights into the most valuable customer profiles.\n",
    "\t\n",
    "*\tOptimizing pricing strategies by analyzing the relationship between lead times, seasonal demand, and average daily rates.\n",
    "\t\n",
    "*\tEvaluating the effectiveness of different distribution channels to determine the most profitable booking sources.\n"
   ]
  },
  {
   "cell_type": "markdown",
   "id": "e01a5e9e-47ea-4beb-9158-4be5cf1c2c94",
   "metadata": {},
   "source": [
    "## Importing Libraries"
   ]
  },
  {
   "cell_type": "code",
   "execution_count": 93,
   "id": "cfd0d25a-5c95-4b22-b98b-2d9ede983d4f",
   "metadata": {},
   "outputs": [],
   "source": [
    "import pandas as pd\n",
    "import numpy as np\n",
    "import matplotlib.pyplot as plt\n",
    "import seaborn as sns"
   ]
  },
  {
   "cell_type": "code",
   "execution_count": 94,
   "id": "38220514-a3bf-4612-9261-fe94705a57c4",
   "metadata": {},
   "outputs": [],
   "source": [
    "import warnings\n",
    "warnings.filterwarnings('ignore')"
   ]
  },
  {
   "cell_type": "code",
   "execution_count": null,
   "id": "c095c242-8176-482b-803c-40b482db2a86",
   "metadata": {},
   "outputs": [],
   "source": [
    "df=pd.read_excel('Row Data.xlsx')"
   ]
  },
  {
   "cell_type": "code",
   "execution_count": null,
   "id": "22ba304c-4551-4fc2-aef0-e2f0e27b0f5b",
   "metadata": {},
   "outputs": [],
   "source": [
    "df"
   ]
  },
  {
   "cell_type": "markdown",
   "id": "8c08d9a8-307e-4cc7-9511-92f05c8a0bcd",
   "metadata": {},
   "source": [
    "## Data Overview\n",
    "The analysis is based on a comprehensive hotel booking dataset, which includes the following key fields:\n",
    "\n",
    "* Booking ID: Unique identifier assigned to each booking\n",
    "* Hotel: Property type where the booking was made\n",
    "* Booking Date: Date when the reservation was created\n",
    "* Arrival Date: Scheduled check-in date\n",
    "* Lead Time: Number of days between booking and arrival date\n",
    "* Nights: Duration of the stay in nights\n",
    "* Guests: Number of guests included in the booking\n",
    "* Distribution Channel: Source of booking (Direct, Travel Agent, Corporate, etc.)\n",
    "* Customer Type: Classification of customers (Transient, Group, etc.)\n",
    "* Country: Country of origin of the guest\n",
    "* Deposit Type: Deposit payment status (No Deposit, Non-Refundable, etc.)\n",
    "* Average Daily Rate (ADR): Average price per night charged for the booking\n",
    "* Status: Current status of the booking (Check-Out, Cancelled, etc.)\n",
    "* Status Update: Date when the booking status was last modified\n",
    "* Cancelled (0/1): Indicator denoting whether the booking was cancelled\n",
    "* Revenue: Actual revenue generated from completed bookings\n",
    "* Revenue Loss: Estimated revenue loss due to cancellations\n"
   ]
  },
  {
   "cell_type": "markdown",
   "id": "eea8e8af-0819-434c-8c34-da03e660e4a9",
   "metadata": {},
   "source": [
    "<left><h1 style=\"color:darkred; font-size: 36px;\">Exploratory Data Analysis (EDA)</h1></left>"
   ]
  },
  {
   "cell_type": "code",
   "execution_count": null,
   "id": "6e6f23f8-80a1-4716-9526-d47cc1d6a15a",
   "metadata": {},
   "outputs": [],
   "source": [
    "df.size"
   ]
  },
  {
   "cell_type": "code",
   "execution_count": null,
   "id": "ec612f11-f06f-43f9-8f96-f709bc1f3fd3",
   "metadata": {},
   "outputs": [],
   "source": [
    "df.shape"
   ]
  },
  {
   "cell_type": "markdown",
   "id": "77635593-f3b1-4cd0-a266-de741b0083d3",
   "metadata": {},
   "source": [
    "## Informations of the dataset\n",
    "* Total Columns= 17\n",
    "* Total Rows= 119390\n",
    "* Data Types\n",
    "    - Integer= 5\n",
    "    - Float= 3\n",
    "    - Datetime= 3\n",
    "    - Object= 6\n"
   ]
  },
  {
   "cell_type": "code",
   "execution_count": null,
   "id": "ded8e4e3-243d-4e51-931a-a0f20fccc640",
   "metadata": {},
   "outputs": [],
   "source": [
    "df.info()"
   ]
  },
  {
   "cell_type": "code",
   "execution_count": null,
   "id": "74b08372-ca32-4530-84cb-1fb5d8ff1ccc",
   "metadata": {},
   "outputs": [],
   "source": [
    "df.describe()"
   ]
  },
  {
   "cell_type": "code",
   "execution_count": null,
   "id": "753ae8be-da8f-4084-befb-db87bef66c45",
   "metadata": {},
   "outputs": [],
   "source": [
    "df.describe(include='object')"
   ]
  },
  {
   "cell_type": "code",
   "execution_count": null,
   "id": "5be9f4f4-8f44-4125-9f03-8a7cda7047aa",
   "metadata": {},
   "outputs": [],
   "source": [
    "df.nunique()"
   ]
  },
  {
   "cell_type": "code",
   "execution_count": null,
   "id": "27db1249-2d83-48f7-ab09-bdc42b9b8c91",
   "metadata": {},
   "outputs": [],
   "source": [
    "df.ndim"
   ]
  },
  {
   "cell_type": "markdown",
   "id": "4a49f62a-28ed-415e-97af-fade8ad335f0",
   "metadata": {},
   "source": [
    "### Checking Duplicates"
   ]
  },
  {
   "cell_type": "code",
   "execution_count": null,
   "id": "ef19fd61-3b5e-447d-b442-84afde06c002",
   "metadata": {},
   "outputs": [],
   "source": [
    "df.duplicated().sum()"
   ]
  },
  {
   "cell_type": "markdown",
   "id": "812be1b8-1267-409c-b437-8746bfa5ac4b",
   "metadata": {},
   "source": [
    "> #### No duplicated rows"
   ]
  },
  {
   "cell_type": "markdown",
   "id": "58779aac-6092-48cf-983c-af851ff91ccb",
   "metadata": {},
   "source": [
    "### Checking Null Values"
   ]
  },
  {
   "cell_type": "code",
   "execution_count": null,
   "id": "349ebf2a-7db2-4ec5-8089-39e2041c9834",
   "metadata": {},
   "outputs": [],
   "source": [
    "df.isnull().sum()"
   ]
  },
  {
   "cell_type": "markdown",
   "id": "3291b6c9-a9a9-45be-b4f7-a7bb5feb547c",
   "metadata": {},
   "source": [
    "> #### Country column has 488 null values"
   ]
  },
  {
   "cell_type": "markdown",
   "id": "84bb84af-9be1-4d7d-8e0b-803b2e2c5eb0",
   "metadata": {},
   "source": [
    "#### Filling null values using mode()"
   ]
  },
  {
   "cell_type": "code",
   "execution_count": null,
   "id": "31f7cb21-b000-4aba-beac-3f8682e5cfd1",
   "metadata": {},
   "outputs": [],
   "source": [
    "df['Country']=df['Country'].fillna(df['Country'].mode()[0])"
   ]
  },
  {
   "cell_type": "code",
   "execution_count": null,
   "id": "351b01d8-4de2-4681-af04-27a72531955c",
   "metadata": {},
   "outputs": [],
   "source": [
    "df.isna().sum()"
   ]
  },
  {
   "cell_type": "markdown",
   "id": "e55cbbe7-fac6-4c96-ad30-edd95cbc7049",
   "metadata": {},
   "source": [
    "# Feature Engineering"
   ]
  },
  {
   "cell_type": "markdown",
   "id": "f6f4b0e0-0c02-4cfe-9689-58e24ea60023",
   "metadata": {},
   "source": [
    "## 1. Time-Based Columns:"
   ]
  },
  {
   "cell_type": "markdown",
   "id": "f63f029a-fb9d-43cc-aa59-43f7e11ca6e8",
   "metadata": {},
   "source": [
    "### Extracted Year of Booking,Month of Booking, Dayname of Booking from Booking Date"
   ]
  },
  {
   "cell_type": "code",
   "execution_count": null,
   "id": "1526167e-ced6-42cd-bc88-5951998b1e58",
   "metadata": {},
   "outputs": [],
   "source": [
    "df['Year of Booking']=df['Booking Date'].dt.year"
   ]
  },
  {
   "cell_type": "code",
   "execution_count": null,
   "id": "187c4171-902b-42d7-943d-7681e36d0342",
   "metadata": {},
   "outputs": [],
   "source": [
    "df['Month of Booking']=df['Booking Date'].dt.month_name()"
   ]
  },
  {
   "cell_type": "code",
   "execution_count": null,
   "id": "cd61cbca-62db-4893-84d0-9e6131c4875f",
   "metadata": {},
   "outputs": [],
   "source": [
    "df['Weekday of Booking']=df['Booking Date'].dt.day_name()"
   ]
  },
  {
   "cell_type": "markdown",
   "id": "e75790b4-0960-43d6-95fa-065d3ef2929e",
   "metadata": {},
   "source": [
    "### Extracted year,Month name, Dayname from Arrival Date"
   ]
  },
  {
   "cell_type": "code",
   "execution_count": null,
   "id": "7aa36c5e-ef28-488f-a408-d51e169a09ad",
   "metadata": {},
   "outputs": [],
   "source": [
    "df['Year of Arrival']=df['Arrival Date'].dt.year"
   ]
  },
  {
   "cell_type": "code",
   "execution_count": null,
   "id": "01819a5b-84ee-42a5-b996-ffb284a4c61b",
   "metadata": {},
   "outputs": [],
   "source": [
    "df['Month of Arrival']=df['Arrival Date'].dt.month_name()"
   ]
  },
  {
   "cell_type": "code",
   "execution_count": null,
   "id": "62510a68-98ac-4ab3-8714-58359faad659",
   "metadata": {},
   "outputs": [],
   "source": [
    "df['Weekday of Arrival']=df['Arrival Date'].dt.day_name()"
   ]
  },
  {
   "cell_type": "markdown",
   "id": "e907cc5c-ac92-4a73-b132-446f448f9a37",
   "metadata": {},
   "source": [
    "## 2. Booking Behavior Columns:"
   ]
  },
  {
   "cell_type": "markdown",
   "id": "f9f3710c-404a-4af0-9a9c-6c0427355c80",
   "metadata": {},
   "source": [
    "### Booking Window Category"
   ]
  },
  {
   "cell_type": "code",
   "execution_count": null,
   "id": "13dc9143-7879-4d12-bf3b-40338535a5e6",
   "metadata": {},
   "outputs": [],
   "source": [
    "print(df[df['Lead Time'].isna()])"
   ]
  },
  {
   "cell_type": "code",
   "execution_count": null,
   "id": "7dae5a1c-07a0-4c9f-a667-69a25942dd72",
   "metadata": {},
   "outputs": [],
   "source": [
    "df['Lead Time'].unique()"
   ]
  },
  {
   "cell_type": "code",
   "execution_count": null,
   "id": "f7bbd2a9-6514-4f39-9365-eec19ff5f098",
   "metadata": {},
   "outputs": [],
   "source": [
    "df['Lead Time'].max()"
   ]
  },
  {
   "cell_type": "code",
   "execution_count": null,
   "id": "06f9b10f-7fdb-43cd-ae0a-7af47b1c06b0",
   "metadata": {},
   "outputs": [],
   "source": [
    "df['Lead Time'].min()"
   ]
  },
  {
   "cell_type": "code",
   "execution_count": null,
   "id": "1a2bbd9c-19e8-4b0b-a741-f97a02b02551",
   "metadata": {},
   "outputs": [],
   "source": [
    "df['Booking Window Category']=pd.cut(df['Lead Time'],bins=[0,7,30,180,737],labels=['Last Minute','Short Term','Long Term','Very Long Term'],include_lowest=True)"
   ]
  },
  {
   "cell_type": "code",
   "execution_count": null,
   "id": "a90d2758-2556-4020-8c0f-2e1d89289bcc",
   "metadata": {},
   "outputs": [],
   "source": [
    "df['Booking Window Category'].value_counts(dropna=False)"
   ]
  },
  {
   "cell_type": "markdown",
   "id": "261de36f-50bf-44af-9be1-6cab219243d4",
   "metadata": {},
   "source": [
    "### Stay Duration Category"
   ]
  },
  {
   "cell_type": "code",
   "execution_count": null,
   "id": "796b9a25-fe40-4164-9bd0-c3a71b08ec7e",
   "metadata": {},
   "outputs": [],
   "source": [
    "df['Nights'].unique()"
   ]
  },
  {
   "cell_type": "code",
   "execution_count": null,
   "id": "cdba37f6-0302-4e67-9baa-6a5ba7dc61d7",
   "metadata": {},
   "outputs": [],
   "source": [
    "df['Nights'].max()"
   ]
  },
  {
   "cell_type": "code",
   "execution_count": null,
   "id": "890c6d6c-bcf7-423e-8b28-879b5ccec861",
   "metadata": {},
   "outputs": [],
   "source": [
    "df['Stay Duration Category']=pd.cut(df['Nights'],bins=(0,3,8,30,69),labels=['Short Stay','Medium Stay','Long Stay','Very Long Stay'],include_lowest=True)"
   ]
  },
  {
   "cell_type": "code",
   "execution_count": null,
   "id": "fbfbc194-fb90-4d51-8aa6-7a344ee3b126",
   "metadata": {},
   "outputs": [],
   "source": [
    "df['Stay Duration Category'].value_counts()"
   ]
  },
  {
   "cell_type": "markdown",
   "id": "b3ed3eee-2921-4872-a162-b61a6b91fbe9",
   "metadata": {},
   "source": [
    "### Guest Type"
   ]
  },
  {
   "cell_type": "code",
   "execution_count": null,
   "id": "aae3b8e1-8cd4-43aa-81b4-d3e380f94f2c",
   "metadata": {},
   "outputs": [],
   "source": [
    "df['Guests'].unique()"
   ]
  },
  {
   "cell_type": "code",
   "execution_count": null,
   "id": "528d7906-4477-42c9-a282-50027b95f705",
   "metadata": {},
   "outputs": [],
   "source": [
    "df['Guests'].min()"
   ]
  },
  {
   "cell_type": "code",
   "execution_count": null,
   "id": "a5f79d9d-09b3-4e2e-b165-905e65c8fe91",
   "metadata": {},
   "outputs": [],
   "source": [
    "df['Guests'].max()"
   ]
  },
  {
   "cell_type": "code",
   "execution_count": null,
   "id": "27c27622-bfc8-4438-a9e6-01091c65fa28",
   "metadata": {},
   "outputs": [],
   "source": [
    "df['Guests'].value_counts()"
   ]
  },
  {
   "cell_type": "code",
   "execution_count": null,
   "id": "10ebd751-419c-446f-8dc0-d02bc6f3b671",
   "metadata": {},
   "outputs": [],
   "source": [
    "def category_guest(guest):\n",
    "    if guest==0:\n",
    "        return 'Invalid Entry'\n",
    "    elif guest==1:\n",
    "        return 'Solo'\n",
    "    elif guest==2:\n",
    "        return 'Couple'\n",
    "    elif guest>3 and guest<6:\n",
    "        return 'Family'\n",
    "    else:\n",
    "        return 'Groups'\n",
    "\n",
    "df['Guest Type']=df['Guests'].apply(category_guest)"
   ]
  },
  {
   "cell_type": "code",
   "execution_count": null,
   "id": "790a40ea-31ac-450e-bdc6-139bf12e7f46",
   "metadata": {},
   "outputs": [],
   "source": [
    "df['Guest Type'].value_counts()"
   ]
  },
  {
   "cell_type": "markdown",
   "id": "c17863fb-cfa5-4487-b36a-9ca3ac178bd8",
   "metadata": {},
   "source": [
    "## 3. Customer Segmentation Columns:"
   ]
  },
  {
   "cell_type": "markdown",
   "id": "0ce88d17-b747-4743-9f35-90626aaefc76",
   "metadata": {},
   "source": [
    "### Repeat Guest"
   ]
  },
  {
   "cell_type": "code",
   "execution_count": null,
   "id": "8608fc28-3dbc-4adf-9960-e3d51f98b5e6",
   "metadata": {},
   "outputs": [],
   "source": [
    "df.duplicated(subset=['Booking ID']).value_counts()"
   ]
  },
  {
   "cell_type": "markdown",
   "id": "8b7837ee-912b-4a07-8d0b-ec7c370a97b2",
   "metadata": {},
   "source": [
    "> #### There is no Repeat Guests"
   ]
  },
  {
   "cell_type": "markdown",
   "id": "e79c9a13-550a-4c54-b6c9-8f8e87e70f39",
   "metadata": {},
   "source": [
    "### High-Value Customers"
   ]
  },
  {
   "cell_type": "code",
   "execution_count": null,
   "id": "0eaae9e4-43ba-42d3-93e3-6db7e2078262",
   "metadata": {},
   "outputs": [],
   "source": [
    "df['Total Booking Value'] = df['Avg Daily Rate'] * df['Nights'] * df['Guests']"
   ]
  },
  {
   "cell_type": "code",
   "execution_count": null,
   "id": "acf80ed8-f9d4-4c78-bf9c-d21155b3ac90",
   "metadata": {},
   "outputs": [],
   "source": [
    "# Compute the 90th percentile of Total Booking Value\n",
    "threshold = df['Total Booking Value'].quantile(0.90)\n",
    "\n",
    "# Assign High-Value Customer flag dynamically\n",
    "df['High-Value Customer'] = (df['Total Booking Value'] > threshold).astype(int)\n"
   ]
  },
  {
   "cell_type": "code",
   "execution_count": null,
   "id": "af415909-962d-43b5-afd8-fd2850a5426f",
   "metadata": {},
   "outputs": [],
   "source": [
    "df['High-Value Customer'].value_counts()"
   ]
  },
  {
   "cell_type": "markdown",
   "id": "381a83c7-4662-4d6c-801f-d302e024fd30",
   "metadata": {},
   "source": [
    "### Profit"
   ]
  },
  {
   "cell_type": "code",
   "execution_count": null,
   "id": "a145233c-0a31-4784-8768-df8b9d1f80e6",
   "metadata": {},
   "outputs": [],
   "source": [
    "df['Profit']=df['Revenue']-df['Revenue Loss']"
   ]
  },
  {
   "cell_type": "markdown",
   "id": "04fd2665-0cd7-4573-a76d-ecd8789158c7",
   "metadata": {},
   "source": [
    "## Save the modified data to a csv file"
   ]
  },
  {
   "cell_type": "code",
   "execution_count": null,
   "id": "c456d518-85a8-4b1f-8cf1-96dbf26cef6e",
   "metadata": {},
   "outputs": [],
   "source": [
    "df.to_csv('Hotel Booking Data.csv',index=False)"
   ]
  },
  {
   "cell_type": "code",
   "execution_count": null,
   "id": "cbc0f1c3-7369-473a-8fd0-7d372a3fb42d",
   "metadata": {},
   "outputs": [],
   "source": []
  },
  {
   "cell_type": "markdown",
   "id": "cffa5d27-df42-49bf-ba1f-3ef4d15105ad",
   "metadata": {},
   "source": [
    "<center><h1 style=\"color:darkblue; font-size: 36px;\">Hotel Booking Analysis</h1></center>\r\n",
    "\n"
   ]
  },
  {
   "cell_type": "code",
   "execution_count": null,
   "id": "8a122c25-727e-4c8c-a252-adbf47ec13e2",
   "metadata": {},
   "outputs": [],
   "source": [
    "import matplotlib.pyplot as plt\n",
    "import seaborn as sns"
   ]
  },
  {
   "cell_type": "code",
   "execution_count": null,
   "id": "10b593db-583a-4dfc-ae02-11048d052478",
   "metadata": {},
   "outputs": [],
   "source": [
    "df=pd.read_csv('Hotel Booking Data.csv')"
   ]
  },
  {
   "cell_type": "code",
   "execution_count": null,
   "id": "2de8203f-02d4-4ce5-bff1-d708645d5bc1",
   "metadata": {},
   "outputs": [],
   "source": [
    "df"
   ]
  },
  {
   "cell_type": "markdown",
   "id": "37a2d3ad-6853-4da8-82e7-06162fb97b12",
   "metadata": {},
   "source": [
    "<left><h1 style=\"color:darkred; font-size: 36px;\">Univariate Analysis</h1></left>"
   ]
  },
  {
   "cell_type": "markdown",
   "id": "09a88f03-14d6-46b5-8701-80aa61c60449",
   "metadata": {},
   "source": [
    "<left><h5 style=\"color:green; font-size: 36px;\">Boxplot</h5></left>"
   ]
  },
  {
   "cell_type": "code",
   "execution_count": null,
   "id": "12798aa6-9906-44c6-b956-765227ab372c",
   "metadata": {},
   "outputs": [],
   "source": [
    "plt.figure(figsize=(15,8))\n",
    "df.boxplot()\n",
    "plt.xticks(rotation=45)\n",
    "plt.show()"
   ]
  },
  {
   "cell_type": "markdown",
   "id": "09259175-7ef4-4179-bd33-0e2bbf69c6d3",
   "metadata": {},
   "source": [
    "> #### Booking ID has a wide range — it's just an identifier, not useful for analysis.\n",
    "\n",
    "#### Lead Time, ADR, Revenue, Total Booking Value, and Profit have:\n",
    "\n",
    "* High values for a few bookings (outliers).\n",
    "\n",
    "* Most bookings have lower values.\n",
    "\n",
    "#### Revenue Loss shows some negative values — might be errors.\n",
    "\n",
    "#### Cancelled, Repeat Guest, and High-Value Customer are mostly 0 or 1 — they are yes/no type data."
   ]
  },
  {
   "cell_type": "markdown",
   "id": "67aa5b4d-753f-46bc-9add-a2f067c8ecba",
   "metadata": {},
   "source": [
    "<left><h5 style=\"color:green; font-size: 36px;\">Heatmap</h5></left>"
   ]
  },
  {
   "cell_type": "code",
   "execution_count": null,
   "id": "e0891a34-7397-42b5-9c0a-e4637dccad7a",
   "metadata": {},
   "outputs": [],
   "source": [
    "numer=df.select_dtypes(['int','float'])\n",
    "plt.figure(figsize=(15,8))\n",
    "sns.heatmap(numer.corr(),annot=True)\n",
    "plt.show()"
   ]
  },
  {
   "cell_type": "markdown",
   "id": "de80cdf1-3b78-4732-9faf-cdc83e813ae9",
   "metadata": {},
   "source": [
    "> #### Profit is most strongly correlated with Total Booking Value (0.91), followed by Nights (0.75) and Revenue (0.63), while cancellations negatively affect both revenue and profit."
   ]
  },
  {
   "cell_type": "markdown",
   "id": "1858e493-1b2d-4a71-bfff-b45318719e0d",
   "metadata": {},
   "source": [
    "<left><h5 style=\"color:green; font-size: 36px;\">Analysis of Accommodation Type</h5></left>"
   ]
  },
  {
   "cell_type": "code",
   "execution_count": null,
   "id": "a444d53c-d487-4560-8f2b-ffb39486613b",
   "metadata": {},
   "outputs": [],
   "source": [
    "df['Hotel'].value_counts()"
   ]
  },
  {
   "cell_type": "code",
   "execution_count": null,
   "id": "39974760-bf29-40c1-83cd-fc9ab6b34919",
   "metadata": {},
   "outputs": [],
   "source": [
    "plt.figure(figsize=(10,5))\n",
    "sns.countplot(x=df['Hotel'],color='purple')\n",
    "plt.title('Comparison of Accommodation Type',fontsize=14, fontweight='bold')\n",
    "plt.xlabel(\"Accommodation Type\")\n",
    "plt.ylabel(\"Number of Bookings\")\n",
    "plt.savefig(\"accommodation type.png\", dpi=300, bbox_inches='tight')\n",
    "plt.show()"
   ]
  },
  {
   "cell_type": "markdown",
   "id": "80c278cd-5eda-4561-a745-0874bb8ff37a",
   "metadata": {},
   "source": [
    "> #### The number of hotel bookings (79,330) is significantly higher than resort bookings (40,060)"
   ]
  },
  {
   "cell_type": "markdown",
   "id": "02944a09-74a3-46c1-b69b-0a1e7c488798",
   "metadata": {},
   "source": [
    "<left><h5 style=\"color:green; font-size: 36px;\">Distribution Channel Analysis</h5></left>"
   ]
  },
  {
   "cell_type": "code",
   "execution_count": null,
   "id": "4f2e7670-9e1b-43a9-9d24-21f6f451b194",
   "metadata": {},
   "outputs": [],
   "source": [
    "df['Distribution Channel'].value_counts()"
   ]
  },
  {
   "cell_type": "code",
   "execution_count": null,
   "id": "3c8a7feb-db00-4f92-8451-c4b1bb630222",
   "metadata": {},
   "outputs": [],
   "source": [
    "plt.figure(figsize=(10,5))\n",
    "sns.countplot(x='Distribution Channel',data=df,color='purple')\n",
    "plt.title('Distribution Channel Analysis: Booking Preferences',fontsize=14, fontweight='bold')\n",
    "plt.savefig(\"distribution channel.png\", dpi=300, bbox_inches='tight')\n",
    "plt.show()"
   ]
  },
  {
   "cell_type": "markdown",
   "id": "e03bbc5a-b190-48bc-b39f-d703911254ae",
   "metadata": {},
   "source": [
    "> #### The majority of bookings come from online travel agents (74,072), indicating a strong preference for digital platforms, while corporate and undefined channels contribute the least."
   ]
  },
  {
   "cell_type": "markdown",
   "id": "c6004486-389d-48b8-aae4-4d0a98de2fd6",
   "metadata": {},
   "source": [
    "<left><h5 style=\"color:green; font-size: 36px;\">Customer Type Analysis</h5></left>"
   ]
  },
  {
   "cell_type": "code",
   "execution_count": null,
   "id": "f50e4571-d706-46c8-b561-dabdf3ff5eab",
   "metadata": {},
   "outputs": [],
   "source": [
    "df['Customer Type'].value_counts()"
   ]
  },
  {
   "cell_type": "code",
   "execution_count": null,
   "id": "68002765-55d7-45cc-9142-67061977770a",
   "metadata": {},
   "outputs": [],
   "source": [
    "plt.figure(figsize=(10,5))\n",
    "sns.countplot(x='Customer Type',data=df,color='purple')\n",
    "plt.title('Customer Type Analysis: Dominance of Transient Bookings',fontsize=14, fontweight='bold')\n",
    "plt.savefig(\"customer type.png\", dpi=300, bbox_inches='tight')\n",
    "plt.show()"
   ]
  },
  {
   "cell_type": "markdown",
   "id": "0f5251f1-e362-4814-8aeb-28f807834941",
   "metadata": {},
   "source": [
    "> #### Transient customers (89,613) form the largest segment, highlighting a preference for short-term, individual stays, while group bookings (577) are the least common. "
   ]
  },
  {
   "cell_type": "markdown",
   "id": "fb43cce5-d91d-4f12-8e3d-9425be06c329",
   "metadata": {},
   "source": [
    "<left><h5 style=\"color:green; font-size: 36px;\">Analysis of Countries by Hotel Booking</h5></left>"
   ]
  },
  {
   "cell_type": "code",
   "execution_count": null,
   "id": "3fe5cf81-aa75-4721-9b38-5672084b8dc3",
   "metadata": {},
   "outputs": [],
   "source": [
    "df['Country'].value_counts()"
   ]
  },
  {
   "cell_type": "code",
   "execution_count": null,
   "id": "5e5db03b-0b66-489f-8553-64fbcdfe9a2f",
   "metadata": {},
   "outputs": [],
   "source": [
    "plt.figure(figsize=(10,5))\n",
    "plt.title('Top 10 Countries by Hotel Bookings',fontsize=14, fontweight='bold')\n",
    "df['Country'].value_counts().head(10).plot(kind='bar',color='purple')\n",
    "plt.savefig(\"top country by booking.png\", dpi=300, bbox_inches='tight')\n",
    "plt.show()"
   ]
  },
  {
   "cell_type": "markdown",
   "id": "1d7994a2-ab68-4393-a37d-21db8e639ef9",
   "metadata": {},
   "source": [
    "> #### Portugal (49,078) leads with the highest number of bookings, likely due to domestic travelers, while the United Kingdom (12,129) and France (10,415) follow as key international markets, reflecting strong European tourism demand"
   ]
  },
  {
   "cell_type": "markdown",
   "id": "d8992a1f-ee26-482e-879b-4bf56dd0d15d",
   "metadata": {},
   "source": [
    "## Least Represented Countries"
   ]
  },
  {
   "cell_type": "code",
   "execution_count": null,
   "id": "df9bedb1-65e7-48c0-9d55-36624679dd49",
   "metadata": {},
   "outputs": [],
   "source": [
    "df['Country'].value_counts().tail(10)"
   ]
  },
  {
   "cell_type": "markdown",
   "id": "794ccf16-e412-41bc-ac84-9b0446e075a0",
   "metadata": {},
   "source": [
    "> #### Countries like Madagascar, Myanmar, and Nepal each have only one booking, indicating minimal travel activity from these regions, possibly due to geographical distance, visa restrictions, or lower outbound tourism rates."
   ]
  },
  {
   "cell_type": "markdown",
   "id": "991bab92-37ff-48e4-bb35-a78d0a88a32d",
   "metadata": {},
   "source": [
    "<left><h5 style=\"color:green; font-size: 36px;\">Analysis of Deposit Payment Status</h5></left>"
   ]
  },
  {
   "cell_type": "code",
   "execution_count": null,
   "id": "cde157db-d040-4050-b191-28e01812196f",
   "metadata": {},
   "outputs": [],
   "source": [
    "df['Deposit Type'].value_counts()"
   ]
  },
  {
   "cell_type": "code",
   "execution_count": null,
   "id": "04832211-72fd-4591-a2e8-5d18c2cf49cb",
   "metadata": {},
   "outputs": [],
   "source": [
    "plt.figure(figsize=(10,5))\n",
    "sns.countplot(x='Deposit Type',data=df,color='purple')\n",
    "plt.title('Deposit Type Preference in Hotel Bookings',fontsize=14, fontweight='bold')\n",
    "plt.show()"
   ]
  },
  {
   "cell_type": "markdown",
   "id": "84efabac-39a3-4059-8b08-86dfaf0567a2",
   "metadata": {},
   "source": [
    "> #### The vast majority of bookings (104,641) are made with no deposit, suggesting a preference for flexible payment options, while non-refundable (14,587) and refundable (162) bookings are significantly lower."
   ]
  },
  {
   "cell_type": "markdown",
   "id": "9be66f79-fc86-4b59-aa68-0d38529d2786",
   "metadata": {},
   "source": [
    "<left><h5 style=\"color:green; font-size: 36px;\">Guest Stay Status Distribution</h5></left>"
   ]
  },
  {
   "cell_type": "code",
   "execution_count": null,
   "id": "2dc0f511-f527-4589-9892-0878640be970",
   "metadata": {},
   "outputs": [],
   "source": [
    "df['Status'].value_counts()"
   ]
  },
  {
   "cell_type": "code",
   "execution_count": null,
   "id": "9617863e-202d-458d-b648-77774d19680f",
   "metadata": {},
   "outputs": [],
   "source": [
    "df['Status'].value_counts().plot(kind='pie',autopct=\"%1.2f%%\",explode=(0,0,0.1),colors=['purple', '#9B59B6', '#B57EDC'])\n",
    "plt.title('Guest Stay Status Distribution',fontsize=14, fontweight='bold')\n",
    "plt.show()"
   ]
  },
  {
   "cell_type": "markdown",
   "id": "34d56b95-4448-43ed-a1bf-21a37024e3e1",
   "metadata": {},
   "source": [
    "> #### Most guests completed their stay (63% Check-Out), while a significant portion (36% Canceled) canceled their bookings, and only 1% were No-Shows, indicating high booking commitment overall."
   ]
  },
  {
   "cell_type": "markdown",
   "id": "1c3d9f3e-1cf5-4110-8165-9eeb9b2814de",
   "metadata": {},
   "source": [
    "<left><h5 style=\"color:green; font-size: 36px;\">Status Update Frequency Over Time</h5></left>"
   ]
  },
  {
   "cell_type": "code",
   "execution_count": null,
   "id": "7624d987-82b9-4b25-b58f-4e945362ea68",
   "metadata": {},
   "outputs": [],
   "source": [
    "df['Status Update'].value_counts()"
   ]
  },
  {
   "cell_type": "markdown",
   "id": "6c107ec3-4a6c-49a4-a063-647927a8bde8",
   "metadata": {},
   "source": [
    "> #### A few specific dates, like 2015-10-21, show spikes in status updates, indicating bulk actions or peak activity periods, while most dates had minimal changes, suggesting scattered individual updates."
   ]
  },
  {
   "cell_type": "markdown",
   "id": "d294b04a-9e8f-4c70-80a6-d69cfb294a9d",
   "metadata": {},
   "source": [
    "<left><h5 style=\"color:green; font-size: 36px;\">Booking Cancellation Distribution</h5></left>"
   ]
  },
  {
   "cell_type": "code",
   "execution_count": null,
   "id": "6de4f251-f217-4772-9b06-5b194952c110",
   "metadata": {},
   "outputs": [],
   "source": [
    "df['Cancelled (0/1)'].value_counts()"
   ]
  },
  {
   "cell_type": "code",
   "execution_count": null,
   "id": "c4a39299-9ebe-4003-815f-a07f1198de65",
   "metadata": {},
   "outputs": [],
   "source": [
    "df['Cancelled (0/1)'].value_counts().plot(kind='pie',autopct=\"%1.2f%%\",colors=['purple', '#9B59B6'],labels=['Not Cancelled', 'Cancelled'],labeldistance=0.3)\n",
    "\n",
    "plt.title('Booking Cancellation Distribution',fontsize=14, fontweight='bold')\n",
    "plt.show()"
   ]
  },
  {
   "cell_type": "markdown",
   "id": "41de6838-21f5-40e8-a04e-3dbad1ee22e2",
   "metadata": {},
   "source": [
    "> #### Around 37% of bookings were cancelled, while 63% were completed, showing a moderately high cancellation rate that may warrant further analysis of influencing factors."
   ]
  },
  {
   "cell_type": "markdown",
   "id": "1d2f26b4-0a06-4643-acf2-d53e2ccb6d14",
   "metadata": {},
   "source": [
    "<left><h5 style=\"color:green; font-size: 36px;\">Guest Booking Window Preferences</h5></left>"
   ]
  },
  {
   "cell_type": "code",
   "execution_count": null,
   "id": "fe88a489-b64a-436b-8322-554b582cfe18",
   "metadata": {},
   "outputs": [],
   "source": [
    "df['Booking Window Category'].value_counts()"
   ]
  },
  {
   "cell_type": "code",
   "execution_count": null,
   "id": "24144485-d114-4b01-a4c0-9fbedaebd776",
   "metadata": {},
   "outputs": [],
   "source": [
    "df['Booking Window Category'].value_counts().plot(kind='pie',autopct=\"%1.2f%%\",colors=['purple', '#9B59B6', '#B57EDC','#D8BFD8'],labeldistance=0.8)\n",
    "\n",
    "plt.title('Guest Booking Window Preferences', fontsize=14,fontweight='bold')\n",
    "plt.savefig(\"booking window.png\", dpi=300, bbox_inches='tight')\n",
    "plt.show()"
   ]
  },
  {
   "cell_type": "markdown",
   "id": "35de6651-307d-45d9-a480-93fdf29f774d",
   "metadata": {},
   "source": [
    "> #### A majority of guests booked well in advance, with Long Term and Very Long Term bookings making up over 75% of total bookings, while Last Minute and Short Term bookings were significantly lower, indicating strong planning behavior among guests."
   ]
  },
  {
   "cell_type": "markdown",
   "id": "5661e5f1-743e-45ee-9bf9-84578d5c332a",
   "metadata": {},
   "source": [
    "<left><h5 style=\"color:green; font-size: 36px;\">Distribution of Stay Duration</h5></left>"
   ]
  },
  {
   "cell_type": "code",
   "execution_count": null,
   "id": "ce013729-01a2-4384-ac85-e78b902d0cba",
   "metadata": {},
   "outputs": [],
   "source": [
    "df['Stay Duration Category'].value_counts()"
   ]
  },
  {
   "cell_type": "code",
   "execution_count": null,
   "id": "b912670c-0049-4b12-82d1-690d34451457",
   "metadata": {},
   "outputs": [],
   "source": [
    "plt.figure(figsize=(10,5))\n",
    "df['Stay Duration Category'].value_counts().plot(kind='bar',color='purple')\n",
    "\n",
    "plt.title('Distribution of Stay Duration', fontsize=14,fontweight='bold')\n",
    "plt.savefig(\"stay duration.png\", dpi=300, bbox_inches='tight')\n",
    "plt.show()"
   ]
  },
  {
   "cell_type": "markdown",
   "id": "d7316496-0ba8-4f0b-9d37-c5e506da4322",
   "metadata": {},
   "source": [
    "> #### Short stays dominate the booking patterns, making up the vast majority of visits (over 60k), while Very Long Stays are extremely rare, indicating that most guests prefer brief stays over extended visits."
   ]
  },
  {
   "cell_type": "markdown",
   "id": "f9ded619-08db-4b83-9a2e-2cf8518aec82",
   "metadata": {},
   "source": [
    "<left><h5 style=\"color:green; font-size: 36px;\">Guest Type Distribution</h5></left>"
   ]
  },
  {
   "cell_type": "code",
   "execution_count": null,
   "id": "1600ac80-9764-4fdd-afef-41370c95a0a0",
   "metadata": {},
   "outputs": [],
   "source": [
    "df['Guest Type'].value_counts()"
   ]
  },
  {
   "cell_type": "code",
   "execution_count": null,
   "id": "d78f1cd2-4562-4fae-bb71-0594b2a01e35",
   "metadata": {},
   "outputs": [],
   "source": [
    "plt.figure(figsize=(10,5))\n",
    "df['Guest Type'].value_counts().plot(kind='bar',color='purple')\n",
    "plt.title('Guest Type Distribution', fontsize=14,fontweight='bold')\n",
    "plt.savefig(\"guest type.png\", dpi=300, bbox_inches='tight')\n",
    "plt.show()"
   ]
  },
  {
   "cell_type": "markdown",
   "id": "74484d15-5e54-4388-9d01-7fa610f978c9",
   "metadata": {},
   "source": [
    "> #### The majority of bookings were made by couples (over 80k), followed by solo travelers and groups, while families and invalid entries made up a very small portion. This suggests the hotel is most popular among couples, potentially indicating a leisure or romantic travel preference."
   ]
  },
  {
   "cell_type": "markdown",
   "id": "90733ec9-0832-4327-969f-584e917b972b",
   "metadata": {},
   "source": [
    "<left><h5 style=\"color:green; font-size: 36px;\">Repeat Guest Analysis</h5></left>"
   ]
  },
  {
   "cell_type": "code",
   "execution_count": null,
   "id": "fff88e77-d2bf-4f4d-a780-e077f2676bb4",
   "metadata": {},
   "outputs": [],
   "source": [
    "df['Repeat Guest'].value_counts()"
   ]
  },
  {
   "cell_type": "markdown",
   "id": "9ba8849b-29ae-4518-b1d6-40c93ea8a74a",
   "metadata": {},
   "source": [
    "> #### 100% of the guests were first-time visitors, highlighting a lack of repeat business. This could indicate potential for growth in customer loyalty or a focus on one-time leisure stays."
   ]
  },
  {
   "cell_type": "code",
   "execution_count": null,
   "id": "49a68022-8c2c-4b02-ae90-eab46aa91993",
   "metadata": {},
   "outputs": [],
   "source": []
  },
  {
   "cell_type": "markdown",
   "id": "ac53deba-ea61-4499-9a72-e0339db0c8be",
   "metadata": {},
   "source": [
    "<left><h1 style=\"color:darkred; font-size: 36px;\">Bivariate & Comparative Analysis</h1></left>"
   ]
  },
  {
   "cell_type": "markdown",
   "id": "39aeabd4-ee76-448a-b1ef-897408e69275",
   "metadata": {},
   "source": [
    "<left><h5 style=\"color:green; font-size: 36px;\">Booking Volume by Year</h5></left>"
   ]
  },
  {
   "cell_type": "code",
   "execution_count": null,
   "id": "401602dd-2a3a-45dc-b629-a1b3d5244949",
   "metadata": {},
   "outputs": [],
   "source": [
    "df['Year of Booking'].value_counts()"
   ]
  },
  {
   "cell_type": "code",
   "execution_count": null,
   "id": "feff4c51-4075-4e80-93d5-5a3c099ba75f",
   "metadata": {},
   "outputs": [],
   "source": [
    "plt.figure(figsize=(10,5))\n",
    "df['Year of Booking'].value_counts().plot(kind='bar',color='purple')\n",
    "plt.title('Yearly Booking Trend', fontsize=14, fontweight='bold')\n",
    "plt.xlabel('Year')\n",
    "plt.ylabel('Number of Bookings')\n",
    "plt.savefig(\"booking year.png\", dpi=300, bbox_inches='tight')\n",
    "plt.show()"
   ]
  },
  {
   "cell_type": "markdown",
   "id": "7298cbef-d309-4d2b-9e2a-c02184244fe9",
   "metadata": {},
   "source": [
    "> #### Most bookings were made between 2015 and 2017, with a peak in 2016 (58.5k bookings), showing strong growth compared to earlier years."
   ]
  },
  {
   "cell_type": "markdown",
   "id": "02d4aaca-98ac-4c89-901a-0ad82fcffb5b",
   "metadata": {},
   "source": [
    "<left><h5 style=\"color:green; font-size: 36px;\">Monthly Booking Trends</h5></left>"
   ]
  },
  {
   "cell_type": "code",
   "execution_count": null,
   "id": "232ac91c-83c9-42fa-818e-dd91b7458a20",
   "metadata": {},
   "outputs": [],
   "source": [
    "df['Month of Booking'].value_counts()"
   ]
  },
  {
   "cell_type": "code",
   "execution_count": null,
   "id": "1ea94aa3-9017-4607-9277-ad8b339816d9",
   "metadata": {},
   "outputs": [],
   "source": [
    "plt.figure(figsize=(10, 6))\n",
    "df['Month of Booking'].value_counts().plot(kind='bar', color='purple')\n",
    "plt.title('Monthly Booking Trends', fontsize=14,fontweight='bold')\n",
    "plt.xlabel('Month')\n",
    "plt.ylabel('Number of Bookings')\n",
    "plt.savefig(\"booking month.png\", dpi=300, bbox_inches='tight')\n",
    "plt.xticks(rotation=90)\n",
    "plt.tight_layout()\n",
    "plt.show()"
   ]
  },
  {
   "cell_type": "markdown",
   "id": "0f1c31dc-2c22-40a7-aae8-f42d26b8f83e",
   "metadata": {},
   "source": [
    "> #### January and February saw the highest bookings, suggesting a seasonal surge at the beginning of the year, while June and May had the lowest, hinting at a mid-year dip in customer activity."
   ]
  },
  {
   "cell_type": "markdown",
   "id": "c10a22b5-a100-4176-9764-23b4584f699a",
   "metadata": {},
   "source": [
    "<left><h5 style=\"color:green; font-size: 36px;\">Booking Trends by Day of the Week</h5></left>"
   ]
  },
  {
   "cell_type": "code",
   "execution_count": null,
   "id": "1d91c3d4-287d-4bbb-ae7b-f9632d0e0102",
   "metadata": {},
   "outputs": [],
   "source": [
    "df['Weekday of Booking'].value_counts()"
   ]
  },
  {
   "cell_type": "code",
   "execution_count": null,
   "id": "cd7f9145-0588-4fee-92c6-4cf5891bbbe8",
   "metadata": {},
   "outputs": [],
   "source": [
    "plt.figure(figsize=(10,6))\n",
    "df['Weekday of Booking'].value_counts().plot(kind='bar',color='purple')\n",
    "plt.title('Booking Trends by Day of the Week', fontsize=14,fontweight='bold')\n",
    "plt.xlabel('Day of Week')\n",
    "plt.ylabel('Number of Bookings')\n",
    "plt.tight_layout()\n",
    "plt.savefig(\"booking day.png\", dpi=300, bbox_inches='tight')\n",
    "plt.show()"
   ]
  },
  {
   "cell_type": "markdown",
   "id": "43253ad6-2606-47a2-a5e5-39d844a1462c",
   "metadata": {},
   "source": [
    "> #### Most bookings occurred on weekdays, with Friday leading the volume, while weekends (Saturday & Sunday) had the lowest activity, suggesting that customers prefer to book during the workweek."
   ]
  },
  {
   "cell_type": "markdown",
   "id": "1fa7573e-d79d-4ad9-8703-e24f3cb2125a",
   "metadata": {},
   "source": [
    "<left><h5 style=\"color:green; font-size: 36px;\">Guest Arrivals by Year</h5></left>"
   ]
  },
  {
   "cell_type": "code",
   "execution_count": null,
   "id": "c15736ac-b376-4d40-b325-5606f57a01a7",
   "metadata": {},
   "outputs": [],
   "source": [
    "df['Year of Arrival'].value_counts()"
   ]
  },
  {
   "cell_type": "code",
   "execution_count": null,
   "id": "3431d63d-879d-4945-9f0d-07003c58cf19",
   "metadata": {},
   "outputs": [],
   "source": [
    "plt.figure(figsize=(10,6))\n",
    "df['Year of Arrival'].value_counts().plot(kind='bar',color='purple')\n",
    "plt.title('Guest Arrivals by Year', fontsize=14,fontweight='bold')\n",
    "plt.xlabel('Year')\n",
    "plt.ylabel('Number of Arrivals')\n",
    "plt.savefig(\"arrival year.png\", dpi=300, bbox_inches='tight')\n",
    "plt.tight_layout()\n",
    "plt.show()"
   ]
  },
  {
   "cell_type": "markdown",
   "id": "9edcafa0-7287-44c2-8b8d-2fb214fe8bb3",
   "metadata": {},
   "source": [
    "> #### 2016 had the highest number of arrivals (56.7k), followed by a drop in 2017 and significantly fewer in 2015, suggesting a growth in business leading up to 2016, with a slight decline afterward."
   ]
  },
  {
   "cell_type": "markdown",
   "id": "3e3f16aa-4d6e-4d71-83d3-494466d47bd2",
   "metadata": {},
   "source": [
    "<left><h5 style=\"color:green; font-size: 36px;\">Monthly Guest Arrivals</h5></left>"
   ]
  },
  {
   "cell_type": "code",
   "execution_count": null,
   "id": "0d703da1-fd66-4e10-97ea-94a568339808",
   "metadata": {},
   "outputs": [],
   "source": [
    "df['Month of Arrival'].value_counts()"
   ]
  },
  {
   "cell_type": "code",
   "execution_count": null,
   "id": "c799a650-27c7-4932-be42-374283e5578c",
   "metadata": {},
   "outputs": [],
   "source": [
    "plt.figure(figsize=(10, 6))\n",
    "df['Month of Arrival'].value_counts().plot(kind='bar', color='purple')\n",
    "plt.title('Monthly Guest Arrivals Trends', fontsize=14,fontweight='bold')\n",
    "plt.xlabel('Month')\n",
    "plt.ylabel('Number of Bookings')\n",
    "plt.xticks(rotation=90)\n",
    "plt.tight_layout()\n",
    "plt.savefig(\"arrival month.png\", dpi=300, bbox_inches='tight')\n",
    "plt.show()"
   ]
  },
  {
   "cell_type": "markdown",
   "id": "c0b8d50e-4914-4dfa-83e0-f92b689c8cfb",
   "metadata": {},
   "source": [
    "> #### August, July, and May were the peak months for guest arrivals, highlighting strong summer seasonality, while January and December had the fewest, indicating low winter travel activity."
   ]
  },
  {
   "cell_type": "markdown",
   "id": "f93f9ae1-ee0b-44ca-8cd4-0c1ca1008a23",
   "metadata": {},
   "source": [
    "<left><h5 style=\"color:green; font-size: 36px;\">Guest Arrivals by Day of the Week</h5></left>"
   ]
  },
  {
   "cell_type": "code",
   "execution_count": null,
   "id": "054e2ab5-20e3-4d1d-849d-c17be72a1795",
   "metadata": {},
   "outputs": [],
   "source": [
    "df['Weekday of Arrival'].value_counts()"
   ]
  },
  {
   "cell_type": "code",
   "execution_count": null,
   "id": "7a9668e6-16d1-4a99-bd0b-bc1d0317ea11",
   "metadata": {},
   "outputs": [],
   "source": [
    "plt.figure(figsize=(10,6))\n",
    "df['Weekday of Arrival'].value_counts().plot(kind='bar',color='purple')\n",
    "plt.title('Guest Arrivals by Day of the Week', fontsize=14,fontweight='bold')\n",
    "plt.xlabel('Day of Week')\n",
    "plt.ylabel('Number of Bookings')\n",
    "plt.tight_layout()\n",
    "plt.savefig(\"arrival day.png\", dpi=300, bbox_inches='tight')\n",
    "plt.show()"
   ]
  },
  {
   "cell_type": "markdown",
   "id": "d0eb5b98-26a0-430b-8206-0ad33f2a2000",
   "metadata": {},
   "source": [
    "> #### Fridays and Thursdays had the highest arrival rates, indicating a preference for weekend or end-of-week check-ins, while Tuesday and Sunday saw the fewest, showing mid-week and post-weekend dips."
   ]
  },
  {
   "cell_type": "markdown",
   "id": "c2c3e894-9b74-4554-8504-2802d5fd1a31",
   "metadata": {},
   "source": [
    "<left><h5 style=\"color:green; font-size: 36px;\">Cancellations by Category</h5></left>"
   ]
  },
  {
   "cell_type": "code",
   "execution_count": null,
   "id": "cec28090-794a-44d4-b722-980657582417",
   "metadata": {},
   "outputs": [],
   "source": [
    "plt.figure(figsize=(10,6))\n",
    "sns.countplot(data=df, x='Deposit Type', hue='Cancelled (0/1)',palette=['purple', '#9B59B6'])\n",
    "plt.title('Cancellation by Deposit Type', fontsize=14,fontweight='bold')\n",
    "plt.tight_layout()\n",
    "plt.show()"
   ]
  },
  {
   "cell_type": "markdown",
   "id": "3280b4f3-7f7a-47dc-97ce-cd83a524f9ec",
   "metadata": {},
   "source": [
    "> #### Cancellations are highest for bookings with no deposit, while refundable deposits see the fewest cancellations."
   ]
  },
  {
   "cell_type": "code",
   "execution_count": null,
   "id": "9a731a7d-0aaa-4e86-970d-8bf9c9a2cabe",
   "metadata": {},
   "outputs": [],
   "source": [
    "plt.figure(figsize=(10,6))\n",
    "sns.countplot(data=df,x='Customer Type',hue='Cancelled (0/1)',palette=['purple', '#9B59B6'])\n",
    "plt.title('Cancellation by Customer Type', fontsize=14,fontweight='bold')\n",
    "plt.tight_layout()\n",
    "plt.show()"
   ]
  },
  {
   "cell_type": "markdown",
   "id": "a21ab262-9017-4b13-9fec-772eca6b1d10",
   "metadata": {},
   "source": [
    "> #### transient customers account for the majority of cancellations, while contract and group customers show minimal cancellation activity."
   ]
  },
  {
   "cell_type": "code",
   "execution_count": null,
   "id": "5ea51a15-6ab9-4ac9-90e4-3e8a9726d28e",
   "metadata": {},
   "outputs": [],
   "source": [
    "plt.figure(figsize=(10,6))\n",
    "sns.countplot(data=df, x='Distribution Channel', hue='Cancelled (0/1)',palette=['purple', '#9B59B6'])\n",
    "plt.title('Cancellation by Distribution Channel', fontsize=14,fontweight='bold')\n",
    "plt.tight_layout()\n",
    "plt.show()"
   ]
  },
  {
   "cell_type": "markdown",
   "id": "f397fabc-6e06-45ba-9fc1-e3c670f5d093",
   "metadata": {},
   "source": [
    "> #### cancellations are predominantly associated with the 'Online Travel Agent' distribution channel, highlighting its significant share compared to other channels."
   ]
  },
  {
   "cell_type": "code",
   "execution_count": null,
   "id": "a7847786-dfe3-482b-aed0-baf6c8ddb511",
   "metadata": {},
   "outputs": [],
   "source": [
    "# Create a binary column for cancellation\n",
    "df['Is Canceled'] = df['Status'].apply(lambda x: 1 if x == 'Canceled' else 0)\n",
    "\n",
    "# Optionally preview cancellation rates\n",
    "df.groupby(['Deposit Type', 'Customer Type', 'Distribution Channel'])['Is Canceled'].mean().reset_index()"
   ]
  },
  {
   "cell_type": "code",
   "execution_count": null,
   "id": "a142a02a-1154-4440-8042-1d1b037cd75e",
   "metadata": {},
   "outputs": [],
   "source": [
    "# Group and calculate cancellation rate\n",
    "cancel_rate = df.groupby(['Deposit Type', 'Customer Type', 'Distribution Channel'])['Is Canceled'].mean().reset_index()\n",
    "\n",
    "# Plot using FacetGrid\n",
    "plt.figure(figsize=(10,6))\n",
    "g = sns.catplot(\n",
    "    data=cancel_rate,\n",
    "    kind='bar',\n",
    "    x='Deposit Type',\n",
    "    y='Is Canceled',\n",
    "    hue='Distribution Channel',\n",
    "    col='Customer Type',\n",
    "    palette=\"flare\",\n",
    "    height=5,\n",
    "    aspect=1\n",
    ")\n",
    "\n",
    "g.set_titles(\"Customer Type: {col_name}\")\n",
    "g.set_axis_labels(\"Deposit Type\", \"Cancellation Rate\")\n",
    "g.set(ylim=(0, 1))\n",
    "g.tight_layout()\n",
    "plt.subplots_adjust(top=0.85)\n",
    "g.fig.suptitle(\"Cancellation Rate by Deposit Type, Customer Type, and Distribution Channel\",fontsize=14,fontweight='bold')\n",
    "# Save the figure\n",
    "g.savefig(\"cancellation_rate_plot.png\", dpi=300, bbox_inches='tight')\n",
    "plt.show()"
   ]
  },
  {
   "cell_type": "markdown",
   "id": "a7665e9f-2a6f-4444-8c87-913a58cd5f7a",
   "metadata": {},
   "source": [
    "> #### Deposit Type: 'No Deposit' leads to the highest cancellation rates, whereas bookings with refundable deposits experience the least cancellations.\n",
    "> #### Customer Type: 'Transient' customers dominate cancellations, unlike 'Contract' and 'Group' customers, who display minimal activity.\n",
    "> #### Distribution Channel: The 'Online Travel Agent' channel shows a notable trend of cancellations in comparison to others.\n"
   ]
  },
  {
   "cell_type": "markdown",
   "id": "4586da62-7f15-4f53-b1e4-70e3c414c46d",
   "metadata": {},
   "source": [
    "<left><h5 style=\"color:green; font-size: 36px;\">Stay Duration vs Guest Type</h5></left>"
   ]
  },
  {
   "cell_type": "code",
   "execution_count": null,
   "id": "972cd4e9-b803-44d7-83ab-7b1188d21384",
   "metadata": {},
   "outputs": [],
   "source": [
    "plt.figure(figsize=(10,6))\n",
    "sns.countplot(data=df,x='Stay Duration Category', hue='Guest Type',palette=['purple', '#9B59B6','#B57EDC','#D8BFD8','grey'])\n",
    "plt.title('Stay duration vs Guest Type', fontsize=14,fontweight='bold')\n",
    "plt.tight_layout()\n",
    "plt.savefig(\"stay duration vs guest type.png\", dpi=300, bbox_inches='tight')\n",
    "plt.show()"
   ]
  },
  {
   "cell_type": "markdown",
   "id": "f9d0b92f-f7ca-417e-9158-016f78c1a2f2",
   "metadata": {},
   "source": [
    "> #### Short stays are most common, especially among couples, followed by solo guests. Longer stays have fewer guests across all types."
   ]
  },
  {
   "cell_type": "markdown",
   "id": "5feea14e-4f52-4fd9-8a76-6d9c9390d534",
   "metadata": {},
   "source": [
    "\n",
    "<left><h5 style=\"color:green; font-size: 36px;\">Booking Window vs Stay Duration</h5></left>"
   ]
  },
  {
   "cell_type": "code",
   "execution_count": null,
   "id": "6e05da8e-71d2-4212-b632-140305a944e0",
   "metadata": {},
   "outputs": [],
   "source": [
    "plt.figure(figsize=(10,6))\n",
    "sns.countplot(data=df,x='Booking Window Category', hue='Stay Duration Category',palette=['purple', '#9B59B6','#B57EDC','#D8BFD8'])\n",
    "plt.title('Stay duration vs Booking Window', fontsize=14,fontweight='bold')\n",
    "plt.tight_layout()\n",
    "plt.savefig(\"stay duration vs booking window.png\", dpi=300, bbox_inches='tight')\n",
    "plt.show()"
   ]
  },
  {
   "cell_type": "markdown",
   "id": "725e1c9f-f4e7-440e-826e-09294a166aad",
   "metadata": {},
   "source": [
    "> #### Short stays dominate all booking windows, with a steady decline in longer stays across categories."
   ]
  },
  {
   "cell_type": "markdown",
   "id": "b4f7763a-2eca-4f03-b368-c6e390a710c6",
   "metadata": {},
   "source": [
    "\n",
    "<left><h5 style=\"color:green; font-size: 36px;\">Yearly Booking Trend</h5></left>"
   ]
  },
  {
   "cell_type": "code",
   "execution_count": null,
   "id": "ba0f9f49-f86a-41b3-836f-b311e159ea06",
   "metadata": {},
   "outputs": [],
   "source": [
    "\n",
    "plt.figure(figsize=(10,6))\n",
    "sns.lineplot(x='Year of Booking',y='Revenue',data=df,color='purple')\n",
    "plt.title('Yearly Booking Revenue', fontsize=14,fontweight='bold')\n",
    "\n",
    "plt.savefig(\"Yearly Booking revenue.png\", dpi=300, bbox_inches='tight')\n",
    "plt.show()"
   ]
  },
  {
   "cell_type": "markdown",
   "id": "2bda37ef-5acd-4c1b-91bd-8dc0a0618ca1",
   "metadata": {},
   "source": [
    "> #### Yearly booking revenue shows steady growth from 2013 to 2017, with notable increases in 2014 and gradual rises afterward."
   ]
  },
  {
   "cell_type": "code",
   "execution_count": null,
   "id": "cdbac501-7b97-443a-9772-3db626cf9fc1",
   "metadata": {},
   "outputs": [],
   "source": [
    "\n",
    "\n",
    "plt.figure(figsize=(10,6))\n",
    "sns.lineplot(x='Year of Booking',y='Profit',data=df,color='purple')\n",
    "plt.title('Yearly Booking Profit', fontsize=14,fontweight='bold')\n",
    "\n",
    "plt.savefig(\"Yearly Booking profit.png\", dpi=300, bbox_inches='tight')\n",
    "plt.show()"
   ]
  },
  {
   "cell_type": "markdown",
   "id": "8c6ad878-787d-48b9-a771-015c4ae2215c",
   "metadata": {},
   "source": [
    "> #### Profits from yearly bookings show consistent growth, starting modestly in 2013 and soaring to significant highs by 2017.\n"
   ]
  },
  {
   "cell_type": "markdown",
   "id": "0ef9aa8c-3449-4582-94c0-e723fbc59ff8",
   "metadata": {},
   "source": [
    "\n",
    "<left><h5 style=\"color:green; font-size: 36px;\">Revenue Distribution</h5></left>"
   ]
  },
  {
   "cell_type": "code",
   "execution_count": null,
   "id": "1e3bad41-04f7-4be1-845f-0ab82aca6fdf",
   "metadata": {},
   "outputs": [],
   "source": [
    "sns.barplot(x=\"Customer Type\",y=\"Revenue\",data=df,estimator='sum',color='purple')\n",
    "plt.title(\"Revenue by Customer Type\",fontsize=14,fontweight='bold')\n",
    "plt.show()"
   ]
  },
  {
   "cell_type": "markdown",
   "id": "0dd892a6-702f-4478-b31f-8aaa03c072e4",
   "metadata": {},
   "source": [
    "> #### Transient customers generate the most revenue, while contract and group customers contribute the least. Transient-party customers fall in between."
   ]
  },
  {
   "cell_type": "code",
   "execution_count": null,
   "id": "95bc8175-9b84-4430-bf7c-24a97a73c5dd",
   "metadata": {},
   "outputs": [],
   "source": [
    "plt.figure(figsize=(10,5))\n",
    "sns.barplot(x=\"Distribution Channel\",y=\"Revenue\",data=df,estimator='sum',color='purple')\n",
    "plt.title(\"Revenue by Distribution Channel\",fontsize=14,fontweight='bold')\n",
    "plt.show()"
   ]
  },
  {
   "cell_type": "markdown",
   "id": "4641661b-7226-4903-8c9a-cfefa3ee285c",
   "metadata": {},
   "source": [
    "> #### Online Travel Agent channels dominate revenue generation, significantly surpassing Offline Travel Agents, Direct, Corporate, and Undefined channels.\n"
   ]
  },
  {
   "cell_type": "markdown",
   "id": "bc5df2e9-586c-485c-b104-a8ba494bd8e5",
   "metadata": {},
   "source": [
    "### Revenue by Distribution Channel and Customer Type"
   ]
  },
  {
   "cell_type": "code",
   "execution_count": null,
   "id": "4d845bcd-53ee-4463-a5ae-7f3db48fd873",
   "metadata": {},
   "outputs": [],
   "source": [
    "grouped = df.groupby(['Distribution Channel', 'Customer Type'])['Revenue'].sum().reset_index()\n",
    "\n",
    "plt.figure(figsize=(10,6))\n",
    "sns.barplot(data=grouped, x='Distribution Channel', y='Revenue', hue='Customer Type', palette='flare')\n",
    "plt.title(\"Revenue by Distribution Channel and Customer Type\")\n",
    "plt.ylabel(\"Revenue\")\n",
    "plt.savefig(\"revenue by distribution channel and customer type.png\", dpi=300, bbox_inches='tight')\n",
    "plt.tight_layout()\n",
    "plt.show()"
   ]
  },
  {
   "cell_type": "markdown",
   "id": "710619c3-739d-40a0-a0f6-daeb73b7cd84",
   "metadata": {},
   "source": [
    "> #### The \"Online Travel Agent\" channel drives the highest revenue, especially from transient customers."
   ]
  },
  {
   "cell_type": "markdown",
   "id": "8e90ba6f-b493-4f8b-99f6-f0d420deb6b0",
   "metadata": {},
   "source": [
    "### Revenue Share by Country"
   ]
  },
  {
   "cell_type": "code",
   "execution_count": null,
   "id": "388dfef5-8086-4572-b2b4-2299584c9e9f",
   "metadata": {},
   "outputs": [],
   "source": [
    "top=df.groupby('Country')[\"Revenue\"].sum().sort_values(ascending=False).head(10)\n",
    "top"
   ]
  },
  {
   "cell_type": "code",
   "execution_count": null,
   "id": "918f2f5c-566f-4876-8bac-7caf1be8a5ad",
   "metadata": {},
   "outputs": [],
   "source": [
    "plt.figure(figsize=(10,6))\n",
    "top.plot(kind='barh', color='purple')\n",
    "plt.xlabel(\"Total Revenue\")\n",
    "plt.ylabel(\"Country\")\n",
    "plt.title(\"Top 10 Countries by Revenue\",fontsize=14,fontweight=\"bold\")\n",
    "plt.gca().invert_yaxis()  # To show highest revenue on top\n",
    "plt.tight_layout()\n",
    "plt.savefig(\"top country revenue.png\", dpi=300, bbox_inches='tight')\n",
    "plt.show()"
   ]
  },
  {
   "cell_type": "markdown",
   "id": "76d3b5e9-96f5-44bc-b318-9dd014ccb046",
   "metadata": {},
   "source": [
    "> #### Portugal generates the highest revenue among the top 10 countries, followed by the United Kingdom and France, with Switzerland at the lowest position."
   ]
  },
  {
   "cell_type": "markdown",
   "id": "b4de697f-4452-458d-8aba-1cfe2f5eed14",
   "metadata": {},
   "source": [
    "\n",
    "<left><h5 style=\"color:green; font-size: 36px;\">Average Daily Rate over Booking Months</h5></left>"
   ]
  },
  {
   "cell_type": "code",
   "execution_count": null,
   "id": "cb337927-1015-4bdb-8549-6836a2d73be7",
   "metadata": {},
   "outputs": [],
   "source": [
    "# Calculate average ADR by month\n",
    "adr_by_month = df.groupby('Month of Booking')['Avg Daily Rate'].mean().reindex([\n",
    "    'January', 'February', 'March', 'April', 'May', 'June',\n",
    "    'July', 'August', 'September', 'October', 'November', 'December'\n",
    "])"
   ]
  },
  {
   "cell_type": "code",
   "execution_count": null,
   "id": "f2852f2e-fed6-495d-aab8-8df9af0bf0b5",
   "metadata": {},
   "outputs": [],
   "source": [
    "plt.figure(figsize=(10,6))\n",
    "adr_by_month.plot(kind='line', marker='o', color='purple')\n",
    "plt.title(\"Average Daily Rate Over Booking Months\")\n",
    "plt.xlabel(\"Month\")\n",
    "plt.ylabel(\"Average Daily Rate\")\n",
    "plt.xticks(rotation=45)\n",
    "plt.grid(True)\n",
    "plt.tight_layout()\n",
    "plt.savefig(\"avg dailyrevenue booking.png\", dpi=300, bbox_inches='tight')\n",
    "plt.show()"
   ]
  },
  {
   "cell_type": "markdown",
   "id": "82072975-fead-462f-937a-de8ebbc30fc7",
   "metadata": {},
   "source": [
    "> #### The graph illustrates a seasonal pattern in the average daily rate, peaking in July and gradually declining through to November, with slight rebounds toward the end of the year."
   ]
  },
  {
   "cell_type": "markdown",
   "id": "69a11e3d-a1ef-4f0b-8cc7-788470960a8f",
   "metadata": {},
   "source": [
    "\n",
    "\n",
    "<left><h5 style=\"color:green; font-size: 36px;\">Lead Time vs. ADR</h5></left>"
   ]
  },
  {
   "cell_type": "code",
   "execution_count": null,
   "id": "dc79ceaf-44d8-41c5-b0e5-33c6e23e28c6",
   "metadata": {},
   "outputs": [],
   "source": [
    "plt.figure(figsize=(10,6))\n",
    "sns.regplot(data=df, x='Lead Time', y='Avg Daily Rate', scatter=True,\n",
    "            lowess=True, line_kws={'color': 'red'})\n",
    "plt.title(\"Lead Time vs. ADR with Trend\")\n",
    "plt.xlabel(\"Lead Time (days)\")\n",
    "plt.ylabel(\"Average Daily Rate\")\n",
    "plt.grid(True)\n",
    "plt.tight_layout()\n",
    "plt.show()"
   ]
  },
  {
   "cell_type": "markdown",
   "id": "a4759e21-e825-4ee5-96cb-7cada243c57a",
   "metadata": {},
   "source": [
    "> #### The scatter plot shows no significant correlation between lead time and average daily rate, as the trend remains almost flat across all data points.\n"
   ]
  },
  {
   "cell_type": "markdown",
   "id": "8659ed88-2e1c-43d3-9396-e2bb5ffd7e51",
   "metadata": {},
   "source": [
    "\n",
    "<left><h5 style=\"color:green; font-size: 36px;\">Profit by Booking Window Category</h5></left>"
   ]
  },
  {
   "cell_type": "code",
   "execution_count": null,
   "id": "cd368d17-9710-4232-bc25-50c7e32694ca",
   "metadata": {},
   "outputs": [],
   "source": [
    "bucketed_revenue = df.groupby('Booking Window Category')['Profit'].sum().reset_index()"
   ]
  },
  {
   "cell_type": "code",
   "execution_count": null,
   "id": "92db5f2c-6f6b-4cd9-859b-dbaa5b96f36f",
   "metadata": {},
   "outputs": [],
   "source": [
    "plt.figure(figsize=(10,6))\n",
    "sns.barplot(data=bucketed_revenue, x='Booking Window Category', y='Profit', palette=['purple', '#9B59B6','#B57EDC','#D8BFD8'])\n",
    "plt.title(\"Profit by Lead Time Buckets\")\n",
    "plt.xlabel(\"Lead Time Range\")\n",
    "plt.ylabel(\"Total Profit\")\n",
    "plt.xticks(rotation=45)\n",
    "plt.tight_layout()\n",
    "plt.savefig(\"profit by booking window.png\", dpi=300, bbox_inches='tight')\n",
    "plt.show()"
   ]
  },
  {
   "cell_type": "markdown",
   "id": "6a507c2f-2558-4ef2-bb02-58b5f1cf19be",
   "metadata": {},
   "source": [
    "> #### Long-term lead time bookings generate the highest profits, followed by very long-term bookings, with last-minute bookings yielding the least."
   ]
  },
  {
   "cell_type": "markdown",
   "id": "a66fc8be-b48a-48aa-ad14-fea8f22fbe68",
   "metadata": {},
   "source": [
    "<left><h5 style=\"color:green; font-size: 36px;\">Revenue Gain vs. Revenue Loss</h5></left>"
   ]
  },
  {
   "cell_type": "code",
   "execution_count": null,
   "id": "7e2d0a5d-2b9f-410d-af9c-f14420b8db45",
   "metadata": {},
   "outputs": [],
   "source": [
    "channel_data = df.groupby('Distribution Channel')[['Revenue', 'Revenue Loss']].sum().reset_index()"
   ]
  },
  {
   "cell_type": "code",
   "execution_count": null,
   "id": "7322048c-315b-48a2-82b6-74614d0e306f",
   "metadata": {},
   "outputs": [],
   "source": [
    "# Melt for grouped bar format\n",
    "melted = channel_data.melt(id_vars='Distribution Channel', \n",
    "                           value_vars=['Revenue', 'Revenue Loss'],\n",
    "                           var_name='Metric', value_name='Amount')\n",
    "\n",
    "plt.figure(figsize=(10,6))\n",
    "sns.barplot(data=melted, x='Distribution Channel', y='Amount', hue='Metric', palette=['purple', '#9B59B6'])\n",
    "plt.title(\"Revenue vs. Revenue Loss\")\n",
    "plt.ylabel(\"Amount\")\n",
    "plt.xticks(rotation=45)\n",
    "plt.tight_layout()\n",
    "plt.savefig(\"revenue vs revenue loss.png\", dpi=300, bbox_inches='tight')\n",
    "plt.show()"
   ]
  },
  {
   "cell_type": "markdown",
   "id": "80abd50b-7e9f-46d0-8600-547108d157c9",
   "metadata": {},
   "source": [
    "> #### Revenue is highest for the \"Online Travel Agent\" channel but is accompanied by significant revenue loss, while other channels have lower revenue and losses.\n"
   ]
  },
  {
   "cell_type": "markdown",
   "id": "7bb0f409-06b7-4f03-bcde-7bd764c03aa4",
   "metadata": {},
   "source": [
    "<left><h5 style=\"color:green; font-size: 36px;\">Customer Flow from Distribution Channel to Status</h5></left>"
   ]
  },
  {
   "cell_type": "code",
   "execution_count": null,
   "id": "879b0bb3-a13f-4632-b212-c489694edbe4",
   "metadata": {},
   "outputs": [],
   "source": [
    "# Aggregate data for stacked bar\n",
    "flow_data = df.groupby(['Distribution Channel', 'Status']).size().unstack().fillna(0)\n",
    "\n",
    "# Plot stacked bar chart\n",
    "color_p=['#D8BFD8', '#9B59B6','purple']\n",
    "flow_data.plot(kind='bar', stacked=True, figsize=(10,6), color=color_p)\n",
    "\n",
    "plt.title(\"Customer Flow from Distribution Channel to Status\")\n",
    "plt.xlabel(\"Distribution Channel\")\n",
    "plt.ylabel(\"Number of Customers\")\n",
    "plt.xticks(rotation=45)\n",
    "plt.tight_layout()\n",
    "plt.savefig(\"Customer Flow from Distribution Channel to Status.png\", dpi=300, bbox_inches='tight')\n",
    "plt.show()"
   ]
  },
  {
   "cell_type": "markdown",
   "id": "97503ca7-05df-49b3-8e71-de1dedd4ab08",
   "metadata": {},
   "source": [
    "> #### The chart shows that the \"Online Travel Agent\" channel has the highest customer flow, with most customers successfully checking out, while no-shows and cancellations are less frequent."
   ]
  },
  {
   "cell_type": "markdown",
   "id": "1f235b46-5c3c-4664-870c-b469c3f253bb",
   "metadata": {},
   "source": [
    "<left><h1 style=\"color:darkred; font-size: 36px;\">Findings</h1></left>"
   ]
  },
  {
   "cell_type": "markdown",
   "id": "d3fcb93e-d2cb-4655-ba59-f6007b892296",
   "metadata": {},
   "source": [
    "\n",
    "\n",
    "1. **Booking Preferences:** Hotel bookings significantly outnumber resort bookings, and transient customers form the largest segment, with couples leading among guest types.\n",
    "2. **Booking Channels:** Online travel agents dominate bookings and revenue generation, but also experience significant cancellations and revenue losses.\n",
    "3. **Guest Behavior:** Most guests book well in advance, prefer short stays, and choose flexible payment options like no deposit.\n",
    "4. **Geographical Insights:** Portugal leads in bookings and revenue, while distant countries like Madagascar and Nepal show minimal activity.\n",
    "5. **Seasonality:** January and February see peak bookings, with strong summer seasonality for arrivals in August, July, and May.\n",
    "6. **Daily Rate Patterns:** Average daily rates peak in July, decline steadily until November, and rebound slightly towards the year-end.\n",
    "7. **Booking Outcomes:** Most bookings are successfully checked out, though cancellations are common, especially among no-deposit bookings.\n",
    "8. **Revenue Trends:** Both booking revenue and profits steadily grew from 2013 to 2017, with notable surges in 2014 and 2017.\n",
    "9. **Arrival Trends:** Fridays and Thursdays see the highest guest arrivals, reflecting a preference for weekend check-ins.\n",
    "10. **First-Time Visitors:** All guests are first-time visitors, suggesting potential opportunities for enhancing customer loyalty programs."
   ]
  },
  {
   "cell_type": "markdown",
   "id": "a9404455-d9a2-466c-acfb-92da9cda5fa5",
   "metadata": {},
   "source": [
    "<left><h1 style=\"color:darkred; font-size: 36px;\">Recommendations</h1></left>"
   ]
  },
  {
   "cell_type": "markdown",
   "id": "2c43da7a-759a-4aab-9105-d8300fe053af",
   "metadata": {},
   "source": [
    "\n",
    "\n",
    "1. **Enhance Loyalty Programs:** Develop initiatives to encourage repeat visits, such as discounts for returning customers, exclusive membership perks, or personalized offers.\n",
    "\n",
    "2. **Optimize Booking Channels:** Focus on improving profitability from the \"Online Travel Agent\" channel, such as negotiating better rates or incentives for high-performing partners. Diversify booking sources to reduce dependence on a single channel.\n",
    "\n",
    "3. **Target Key Markets:** Invest in marketing campaigns in Portugal, the UK, and France to further capitalize on these strong-performing regions. Use customized strategies for low-activity regions to expand your reach.\n",
    "\n",
    "4. **Plan for Seasonality:** Boost promotions and inventory during peak months like January, February, and summer, while planning strategies to attract guests during low-demand periods.\n",
    "\n",
    "5. **Refine No-Deposit Policies:** Encourage more refundable or advance deposit bookings to reduce cancellations and ensure commitment.\n",
    "\n",
    "6. **Upsell Opportunities:** Focus on transient guests and couples with targeted upselling options, such as romantic packages or add-ons for leisure activities.\n",
    "\n",
    "7. **Revenue Management:** Analyze long-term booking trends to better plan inventory and pricing strategies that optimize profits across lead time categories.\n",
    "\n",
    "8. **Daily Rate Adjustments:** Maximize revenue during high-demand periods like July by adjusting daily rates. Offer discounts or packages during low-demand periods to maintain steady occupancy.\n",
    "\n",
    "9. **Expand Weekend Offerings:** Leverage the preference for Friday arrivals by creating special weekend deals or activities that enhance guest experiences.\n",
    "\n",
    "10. **Boost Digital Presence:** Strengthen digital marketing efforts to maintain dominance in online travel agent bookings, while addressing cancellation issues through improved customer communication or policies.\n",
    "\n"
   ]
  },
  {
   "cell_type": "code",
   "execution_count": null,
   "id": "99f62419-96e4-41a0-9c17-4fff35717db1",
   "metadata": {},
   "outputs": [],
   "source": []
  },
  {
   "cell_type": "code",
   "execution_count": null,
   "id": "3c063747-a427-4d13-8a4c-ca2128a7b437",
   "metadata": {},
   "outputs": [],
   "source": []
  },
  {
   "cell_type": "code",
   "execution_count": null,
   "id": "52ed9642-a64d-4653-8cc7-f7d8b240a18b",
   "metadata": {},
   "outputs": [],
   "source": []
  },
  {
   "cell_type": "code",
   "execution_count": null,
   "id": "33717966-ae22-4dfb-acf2-41d11ca0c7f2",
   "metadata": {},
   "outputs": [],
   "source": []
  },
  {
   "cell_type": "code",
   "execution_count": null,
   "id": "50e2de53-9a7a-4a00-9889-61f5a3c6ed55",
   "metadata": {},
   "outputs": [],
   "source": []
  },
  {
   "cell_type": "code",
   "execution_count": null,
   "id": "825f13f1-b365-4825-9178-4807ce6f63ae",
   "metadata": {},
   "outputs": [],
   "source": []
  },
  {
   "cell_type": "code",
   "execution_count": null,
   "id": "622d8161-cfd8-4f11-8a1e-346176ad7bf9",
   "metadata": {},
   "outputs": [],
   "source": []
  },
  {
   "cell_type": "code",
   "execution_count": null,
   "id": "1bcfab1f-9a0a-4e90-86a7-c85d37d57ddc",
   "metadata": {},
   "outputs": [],
   "source": []
  },
  {
   "cell_type": "code",
   "execution_count": null,
   "id": "4ec22240-0298-440d-b504-4cb193ec00ab",
   "metadata": {},
   "outputs": [],
   "source": []
  }
 ],
 "metadata": {
  "kernelspec": {
   "display_name": "Python 3 (ipykernel)",
   "language": "python",
   "name": "python3"
  },
  "language_info": {
   "codemirror_mode": {
    "name": "ipython",
    "version": 3
   },
   "file_extension": ".py",
   "mimetype": "text/x-python",
   "name": "python",
   "nbconvert_exporter": "python",
   "pygments_lexer": "ipython3",
   "version": "3.12.4"
  }
 },
 "nbformat": 4,
 "nbformat_minor": 5
}
